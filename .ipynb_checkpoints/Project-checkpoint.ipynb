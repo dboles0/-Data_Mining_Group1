{
 "cells": [
  {
   "cell_type": "markdown",
   "metadata": {},
   "source": [
    "## Local Import\n",
    "\n",
    "* working localy trim the data to ensure you can work with it locally <br/>\n",
    "*(local computer doesn't have sufficient memory to join all tables so trim down appropriate attributes)*"
   ]
  },
  {
   "cell_type": "code",
   "execution_count": null,
   "metadata": {
    "code_folding": [
     0
    ]
   },
   "outputs": [],
   "source": [
    "# If import's not installed pip install all\n",
    "\n",
    "# import sys\n",
    "# try: \n",
    "#    !{sys.executable} -m pip install plotly --upgrade\n",
    "#    !{sys.executable} -m pip install geopandas==0.3.0\n",
    "#    !{sys.executable} -m pip install pyshp==1.2.10\n",
    "#    !{sys.executable} -m pip install shapely==1.6.3\n",
    "#    !{sys.executable} -m pip install \"notebook>=5.3\" \"ipywidgets>=7.2\"\n",
    "#    !{sys.executable} -m pip install chart_studio\n",
    "#    !{sys.executable} -m pip install plotly-geo\n",
    "#    !{sys.executable} -m pip install folium\n",
    "# except ImportError: \n",
    "#    print(\"already installed\")"
   ]
  },
  {
   "cell_type": "code",
   "execution_count": 1,
   "metadata": {
    "code_folding": [
     0
    ]
   },
   "outputs": [
    {
     "name": "stdout",
     "output_type": "stream",
     "text": [
      "running plotly = 4.2.1\n"
     ]
    },
    {
     "data": {
      "text/html": [
       "        <script type=\"text/javascript\">\n",
       "        window.PlotlyConfig = {MathJaxConfig: 'local'};\n",
       "        if (window.MathJax) {MathJax.Hub.Config({SVG: {font: \"STIX-Web\"}});}\n",
       "        if (typeof require !== 'undefined') {\n",
       "        require.undef(\"plotly\");\n",
       "        requirejs.config({\n",
       "            paths: {\n",
       "                'plotly': ['https://cdn.plot.ly/plotly-latest.min']\n",
       "            }\n",
       "        });\n",
       "        require(['plotly'], function(Plotly) {\n",
       "            window._Plotly = Plotly;\n",
       "        });\n",
       "        }\n",
       "        </script>\n",
       "        "
      ]
     },
     "metadata": {},
     "output_type": "display_data"
    }
   ],
   "source": [
    "# imports | path info | json to pandas dataframe util funciton \n",
    "import json, csv, os\n",
    "import pandas as pd\n",
    "import numpy as np\n",
    "import matplotlib.pyplot as plt \n",
    "%matplotlib inline\n",
    "import numpy as np\n",
    "import seaborn as sns \n",
    "\n",
    "# clustering / unsupervised learning import\n",
    "from sklearn.preprocessing import StandardScaler\n",
    "from sklearn.cluster import KMeans\n",
    "from sklearn.decomposition import PCA\n",
    "\n",
    "\n",
    "# plotly imports \n",
    "import plotly\n",
    "from plotly import __version__\n",
    "print('running plotly = {}'.format(__version__))\n",
    "from plotly.offline import download_plotlyjs, init_notebook_mode, plot, iplot\n",
    "import plotly.graph_objects as go\n",
    "\n",
    "# path info\n",
    "root_path = \"/Users/2015mbp16gb256gb/Documents/school/Fall_2019/4502-Data_Mining/Group_Project/Group1/yelp_dataset/\"\n",
    "rbu_path = root_path + \"rbu_merge.json\"\n",
    "filtered_merge_path = root_path + \"filtered_merge.json\"\n",
    "\n",
    "# converstion util function\n",
    "def JSON_to_dataFrame(file): \n",
    "    \n",
    "    fp = open(file, encoding=\"utf8\")\n",
    "    json_obj = [ json.loads(x) for x in fp.readlines() ] \n",
    "    df = pd.DataFrame(json_obj)\n",
    "    fp.close\n",
    "    return df\n",
    "\n",
    "# for plotly ofline \n",
    "init_notebook_mode(connected=True)"
   ]
  },
  {
   "cell_type": "markdown",
   "metadata": {},
   "source": [
    "### Reviewing The Buiness Data"
   ]
  },
  {
   "cell_type": "code",
   "execution_count": null,
   "metadata": {
    "code_folding": [
     0
    ]
   },
   "outputs": [],
   "source": [
    "# add text to plot \n",
    "%%time\n",
    "\n",
    "business_df = JSON_to_dataFrame(root_path + \"business.json\")\n",
    "business_df['text'] = business_df['state'] + ', ' + business_df['city']"
   ]
  },
  {
   "cell_type": "code",
   "execution_count": null,
   "metadata": {
    "code_folding": [
     0
    ]
   },
   "outputs": [],
   "source": [
    "# display states/province in business file\n",
    "business_df.groupby('state').state.count()"
   ]
  },
  {
   "cell_type": "markdown",
   "metadata": {},
   "source": [
    "* 11 main states found"
   ]
  },
  {
   "cell_type": "markdown",
   "metadata": {},
   "source": [
    "### Kmeans"
   ]
  },
  {
   "cell_type": "markdown",
   "metadata": {},
   "source": [
    "* Kmeans can be sensative to outliers but most of the information is naturally clumped so we dont have to worry "
   ]
  },
  {
   "cell_type": "code",
   "execution_count": null,
   "metadata": {
    "code_folding": [
     0
    ]
   },
   "outputs": [],
   "source": [
    "# find all kmeans and groups\n",
    "def find_df_groups_plus_kmeans(df, lat, lon, n_clusters): \n",
    "    # transform the data \n",
    "    coordinates_df = df[[lat, lon]].copy()\n",
    "\n",
    "    pca = PCA(n_components=2)\n",
    "    coordinates = pca.fit_transform(coordinates_df)\n",
    "    \n",
    "    #Train model\n",
    "    kmeans = KMeans(n_clusters=n_clusters).fit(coordinates)\n",
    "    \n",
    "    # assign lables\n",
    "    df['labels'] = pd.DataFrame(kmeans.labels_)\n",
    "    \n",
    "    return (df, kmeans)"
   ]
  },
  {
   "cell_type": "code",
   "execution_count": null,
   "metadata": {
    "code_folding": [
     0,
     4
    ]
   },
   "outputs": [],
   "source": [
    "# plot elbo method\n",
    "Sum_of_squared_distances = []\n",
    "K = 15\n",
    "\n",
    "for k in range(1, K):\n",
    "    business_df, km = find_df_groups_plus_kmeans(business_df, 'latitude', 'longitude', k)\n",
    "    Sum_of_squared_distances.append(km.inertia_)\n",
    "    \n",
    "plt.plot(Sum_of_squared_distances, 'bx-')\n",
    "plt.xlabel('k')\n",
    "plt.ylabel('Sum_of_squared_distances')\n",
    "plt.title('Elbow Method For Optimal k')\n",
    "plt.show()"
   ]
  },
  {
   "cell_type": "code",
   "execution_count": null,
   "metadata": {
    "code_folding": [
     0
    ]
   },
   "outputs": [],
   "source": [
    "# group using k=10\n",
    "n_clusters = 10\n",
    "business_df, km = find_df_groups_plus_kmeans(business_df, 'latitude', 'longitude', n_clusters)"
   ]
  },
  {
   "cell_type": "markdown",
   "metadata": {},
   "source": [
    "*Lets see what states connect to to clusters*"
   ]
  },
  {
   "cell_type": "code",
   "execution_count": null,
   "metadata": {
    "code_folding": [
     0
    ]
   },
   "outputs": [],
   "source": [
    "# group the cluster and evaluate lables\n",
    "groupby_lables = business_df.groupby('labels').agg(lambda x:x.value_counts().index[0])\n",
    "state_lables = list(groupby_lables['state'])\n",
    "cnt = 0\n",
    "for i in state_lables: \n",
    "    print(cnt, i)\n",
    "    cnt+=1"
   ]
  },
  {
   "cell_type": "code",
   "execution_count": null,
   "metadata": {
    "code_folding": [
     0
    ],
    "scrolled": true
   },
   "outputs": [],
   "source": [
    "# let's plot cluster information for nationwide visualization\"\"\"\n",
    "\"\"\"\n",
    "import plotly.graph_objects as go\n",
    "\n",
    "fig = go.Figure(data=go.Scattergeo(\n",
    "        lon = business_df['longitude'],\n",
    "        lat = business_df['latitude'],\n",
    "        text = business_df['text'],\n",
    "        mode = 'markers',\n",
    "        marker_color = business_df['labels'],\n",
    "        ))\n",
    "\n",
    "fig.update_layout(\n",
    "        title = 'US Cluster<br>(hover for spicific informaiton)',\n",
    "        geo_scope='usa',\n",
    "    )\n",
    "fig.show()\n",
    "\"\"\""
   ]
  },
  {
   "cell_type": "markdown",
   "metadata": {},
   "source": [
    "![img](map.png)"
   ]
  },
  {
   "cell_type": "markdown",
   "metadata": {},
   "source": [
    "#### Deeper look at clustered business data"
   ]
  },
  {
   "cell_type": "code",
   "execution_count": null,
   "metadata": {
    "code_folding": [
     0
    ]
   },
   "outputs": [],
   "source": [
    "# look at the difference between the review count and stars\n",
    "national_review_mean = business_df[\"review_count\"].mean()\n",
    "national_stars_mean = business_df[\"stars\"].mean()\n",
    "print(\"national_stars_mean = \", national_stars_mean)\n",
    "print(\"national_review_mean = \", national_review_mean)"
   ]
  },
  {
   "cell_type": "code",
   "execution_count": null,
   "metadata": {
    "code_folding": [
     0
    ]
   },
   "outputs": [],
   "source": [
    "# means of the clustered info\n",
    "def sortSecond(val): \n",
    "    return val[1] \n",
    "\n",
    "review_count = []\n",
    "rating_stars = []\n",
    "ratio_open_close = []\n",
    "count = []\n",
    "for n in range(n_clusters):\n",
    "    indexes = business_df[business_df[\"labels\"] != n].index\n",
    "    temp = business_df.copy()\n",
    "    temp.drop(indexes, inplace=True)\n",
    "    rating_stars.append((n, temp[\"stars\"].mean()))\n",
    "    review_count.append((n, temp[\"review_count\"].mean()))\n",
    "    count.append((n, temp.count()))\n",
    "    ratio_open_close.append((n, 1 - temp[\"is_open\"].sum() / temp[\"is_open\"].count() ))\n",
    "\n",
    "print(\"Star's mean per cluster = \")\n",
    "rating_stars.sort(key = sortSecond, reverse = True)\n",
    "for i, value in rating_stars: \n",
    "    print(state_lables[i], value)\n",
    "    \n",
    "review_count.sort(key = sortSecond, reverse = True)\n",
    "print(\"\\nReview_count's mean per cluster = \")\n",
    "for i, value in review_count: \n",
    "    print(state_lables[i], value) \n",
    "    \n",
    "ratio_open_close.sort(key = sortSecond, reverse = True)    \n",
    "print(\"\\nRatio of closed businesses per cluster = \")\n",
    "for i, value in ratio_open_close: \n",
    "    print(state_lables[i], \"=\", value) \n",
    "    \n",
    "print(\"\\nCount per cluster = \")\n",
    "for i, value in count: \n",
    "    print(\"--\"+state_lables[i]+\"--\",value)"
   ]
  },
  {
   "cell_type": "markdown",
   "metadata": {},
   "source": [
    "*********\n",
    "### Merging Files and filter out anything not in the NV cluster\n",
    "* merge review, business, and user. Clean format to ensure no merge conflicts"
   ]
  },
  {
   "cell_type": "code",
   "execution_count": null,
   "metadata": {
    "code_folding": [
     0
    ]
   },
   "outputs": [],
   "source": [
    "%%time\n",
    "\n",
    "review_df = JSON_to_dataFrame(root_path + \"review.json\")\n",
    "business_df = JSON_to_dataFrame(root_path + \"business.json\")\n",
    "user_df = JSON_to_dataFrame(root_path + \"user.json\")\n",
    "# tip_df = JSON_to_dataFrame(root_path + \"tip.json\")                     /not used\n",
    "# checkin_df = JSON_to_dataFrame(root_path + \"checkin.json\")             /not used"
   ]
  },
  {
   "cell_type": "code",
   "execution_count": null,
   "metadata": {
    "code_folding": [
     0
    ]
   },
   "outputs": [],
   "source": [
    "# utility function to make a dict of columns with table name added\n",
    "# used for the renaming of column names\n",
    "def make_columns(lst, base):\n",
    "    ret = {}\n",
    "    for i in lst:\n",
    "        ret[i] = base + '_' + i\n",
    "    return ret"
   ]
  },
  {
   "cell_type": "code",
   "execution_count": null,
   "metadata": {
    "code_folding": [
     0
    ]
   },
   "outputs": [],
   "source": [
    "# return dataframe with column names updated to \"table + _column_name\"\n",
    "def process_df(a_df, table): \n",
    "\n",
    "    col_list = [i for i in a_df]\n",
    "    new_dict = make_columns(col_list, table)\n",
    "    return a_df.rename(columns=new_dict)"
   ]
  },
  {
   "cell_type": "code",
   "execution_count": null,
   "metadata": {
    "code_folding": [
     0
    ]
   },
   "outputs": [],
   "source": [
    "%%time\n",
    "\n",
    "# review col = ['business_id', 'cool', 'date', 'funny', 'review_id', 'stars', 'text', 'useful', 'user_id']\n",
    "\n",
    "# ***Update review_df*** \n",
    "review_drop = ['cool','funny']\n",
    "review_df = review_df.drop(review_drop, axis=1)\n",
    "\n",
    "review_df = process_df(review_df, 'review')"
   ]
  },
  {
   "cell_type": "code",
   "execution_count": null,
   "metadata": {
    "code_folding": [
     0
    ]
   },
   "outputs": [],
   "source": [
    "%%time\n",
    "\n",
    "# business col = \n",
    "# ['address','attributes','business_id','categories','city','hours','is_open',              \n",
    "# 'latitude','longitude','name','postal_code','review_count','stars','state']                              \n",
    "\n",
    "# ***Update business_df***\n",
    "business_drop = ['address', 'postal_code']\n",
    "business_df = business_df.drop(business_drop, axis=1)\n",
    "\n",
    "business_df = process_df(business_df, 'business')"
   ]
  },
  {
   "cell_type": "code",
   "execution_count": null,
   "metadata": {
    "code_folding": []
   },
   "outputs": [],
   "source": [
    "%%time\n",
    "\n",
    "rb_merge = pd.merge(review_df, business_df, left_on='review_business_id', right_on='business_business_id', how='inner')"
   ]
  },
  {
   "cell_type": "code",
   "execution_count": null,
   "metadata": {
    "code_folding": [
     0
    ]
   },
   "outputs": [],
   "source": [
    "%%time\n",
    "\n",
    "# user col = \n",
    "# ['average_stars','compliment_cool','compliment_cute','compliment_funny','compliment_hot','compliment_list',           \n",
    "# 'compliment_more','compliment_note','compliment_photos','compliment_plain','compliment_profile','compliment_writer', \n",
    "# 'cool','elite','fans','friends','funny','name','review_count','useful','user_id','yelping_since']   \n",
    "\n",
    "# ***Update _user_df***\n",
    "user_drop = ['average_stars','compliment_cool','compliment_cute','compliment_funny','compliment_hot','compliment_list','compliment_more','compliment_note','compliment_photos','compliment_plain','compliment_profile','compliment_writer','cool', 'elite', 'fans','friends','funny']\n",
    "user_df = user_df.drop(user_drop, axis=1)\n",
    "\n",
    "user_df = process_df(user_df, 'user')"
   ]
  },
  {
   "cell_type": "code",
   "execution_count": null,
   "metadata": {
    "code_folding": []
   },
   "outputs": [],
   "source": [
    "%%time\n",
    "\n",
    "rbu_merge = pd.merge(rb_merge, user_df, left_on='review_user_id', right_on='user_user_id', how='inner')"
   ]
  },
  {
   "cell_type": "code",
   "execution_count": null,
   "metadata": {
    "code_folding": []
   },
   "outputs": [],
   "source": [
    "%%time\n",
    "\n",
    "rbu_drop = ['review_business_id','review_user_id']\n",
    "rbu_merge = rbu_merge.drop(rbu_drop, axis=1)\n"
   ]
  },
  {
   "cell_type": "code",
   "execution_count": null,
   "metadata": {
    "code_folding": [
     0
    ]
   },
   "outputs": [],
   "source": [
    "# drop any elements not in the cluster to clean\n",
    "rbu_merge, km = find_df_groups_plus_kmeans(rbu_merge, 'business_latitude', 'business_longitude', n_clusters)\n",
    "filtered_merge = rbu_merge[rbu_merge['labels'] == 0].copy()"
   ]
  },
  {
   "cell_type": "markdown",
   "metadata": {},
   "source": [
    "*********\n",
    "### Write Merged DataFrame Back To Json file for quicker processing"
   ]
  },
  {
   "cell_type": "code",
   "execution_count": null,
   "metadata": {
    "code_folding": [
     0
    ]
   },
   "outputs": [],
   "source": [
    "# convert df to json format util funciton\n",
    "def df_to_json(df, path):\n",
    "    new_dict = {}\n",
    "    num_col = len([i for i in df])\n",
    "\n",
    "    with open(r'{}'.format(path), 'w') as writer: \n",
    "\n",
    "        for row in df.itertuples():\n",
    "            \n",
    "            for idx, col in enumerate(df): \n",
    "                if type(row[idx+1]) == int: \n",
    "                    new_dict[col] = int(row[idx+1])\n",
    "                if type(row[idx+1]) == float: \n",
    "                    new_dict[col] = float(row[idx+1])\n",
    "                else: \n",
    "                    new_dict[col] = str(row[idx+1])\n",
    "                \n",
    "            writer.write(json.dumps(new_dict) + '\\n')\n",
    "            new_dict = {}         \n",
    "\n"
   ]
  },
  {
   "cell_type": "code",
   "execution_count": null,
   "metadata": {
    "code_folding": []
   },
   "outputs": [],
   "source": [
    "%%time \n",
    "\n",
    "df_to_json(filtered_merge, filtered_merge_path)"
   ]
  },
  {
   "cell_type": "markdown",
   "metadata": {},
   "source": [
    "****\n",
    "## (Start) Open \"filtered_merge\" file for further processing"
   ]
  },
  {
   "cell_type": "code",
   "execution_count": 2,
   "metadata": {
    "code_folding": []
   },
   "outputs": [
    {
     "name": "stdout",
     "output_type": "stream",
     "text": [
      "CPU times: user 1min 32s, sys: 2min 14s, total: 3min 46s\n",
      "Wall time: 4min 32s\n"
     ]
    }
   ],
   "source": [
    "%%time\n",
    "\n",
    "merged_df = JSON_to_dataFrame(filtered_merge_path)"
   ]
  },
  {
   "cell_type": "markdown",
   "metadata": {},
   "source": [
    "*It looks like the business star ratings are more of a normal distribution than the review stars. we will use this attribute compair to 5 star ratings for businesses.* "
   ]
  },
  {
   "cell_type": "code",
   "execution_count": 6,
   "metadata": {},
   "outputs": [
    {
     "name": "stdout",
     "output_type": "stream",
     "text": [
      "it looks like the business star ratings are more of a normal distribution than the review stars\n",
      "this could be due to bias\n"
     ]
    },
    {
     "data": {
      "text/plain": [
       "<matplotlib.axes._subplots.AxesSubplot at 0x1a20947650>"
      ]
     },
     "execution_count": 6,
     "metadata": {},
     "output_type": "execute_result"
    },
    {
     "data": {
      "image/png": "[encoded data removed]",
      "text/plain": [
       "<Figure size 720x360 with 2 Axes>"
      ]
     },
     "metadata": {},
     "output_type": "display_data"
    }
   ],
   "source": [
    "# call regplot on each axes\n",
    "fig, (ax1, ax2) = plt.subplots(ncols=2, sharey=True)\n",
    "\n",
    "sns.distplot(merged_df.review_stars, kde=False, ax=ax1)\n",
    "sns.distplot(merged_df.business_stars, kde=False, ax=ax2)\n",
    "\n",
    "#sns.set(rc={'figure.figsize':(10,5)})"
   ]
  },
  {
   "cell_type": "code",
   "execution_count": null,
   "metadata": {
    "code_folding": [
     0
    ]
   },
   "outputs": [],
   "source": [
    "# thoughts on what can be done with the data\n",
    "\n",
    "\n",
    "# Nieve Base \n",
    "# first use business 5 star to classify as either 1 or 0\n",
    "# then find the calssifications as P(\"x-class\" | \"5 star = yes\") * P(\"5 star = yes\")\n",
    "# do this for all classificatoins to get the probability a business in this classification will get a 5 star rating\n",
    "\n",
    "# the rule R can be assessed by coverage and accuracy\n",
    "# coverage = the percentage of tuples that are covered by the rule\n",
    "# accurecy = the percentage of tupples that the rule can correctly classify\n",
    "\n",
    "# look into the information gain for each attribute given a classification and 5 star\n",
    "# to do this we will have to transpose each attributs into a nominal or binary value\n",
    "# (within each category) total \"5 star = yes\" = P and total \"5 star = no\" = N\n",
    "# I(P,N) = - (P/total in dataset) * log_2(P/total in dataset) - (N/total in data set) * log_2(N/total in dataset)\n",
    "# # Info_Dataset(D) = I(total number of yes, total number of no)\n",
    "# to get the information gain form the category attribute we need P and N from each category to\n",
    "# Info_category(D) = (# of each in category) / (total in dataset) * I(P,N) + Sum(X) for X as each category\n",
    "# Info_Dataset(D) - Info_category(D) \n",
    "# do this for all attribues to find what to split on \n",
    "\n",
    "# coverage (R) = (how many entries meet the \"x-class\" | \"5 star = yes\" criteria) / (total number of entries)\n",
    "# accurecy (R) = (num of \"5 star = yes\") / (how many entries meet the \"x-class\" | \"5 star = yes\" criteria)\n",
    "\n",
    "# usefull vs avg stars\n",
    "# cool vs average stars\n",
    "# funny vs average stars\n",
    "# number of friends vs avg stars\n"
   ]
  },
  {
   "cell_type": "markdown",
   "metadata": {},
   "source": [
    "## Naive Bayes - Find the probability of a category attaining a 5 star rating"
   ]
  },
  {
   "cell_type": "markdown",
   "metadata": {},
   "source": [
    "### Add attributes \n",
    "1 or 0 depending on five_star avg"
   ]
  },
  {
   "cell_type": "code",
   "execution_count": 7,
   "metadata": {
    "code_folding": [
     0
    ]
   },
   "outputs": [],
   "source": [
    "# if business has rating of 5 star add 1 to list othrwise 0\n",
    "# add this information as a new column\n",
    "def update_list(val): \n",
    "    if val == 5: \n",
    "        return 1\n",
    "    else: \n",
    "        return 0\n",
    "    \n",
    "merged_df['five_star_business'] = [update_list(x) for x in merged_df['business_stars'] ]\n"
   ]
  },
  {
   "cell_type": "markdown",
   "metadata": {},
   "source": [
    "1 or 0 depending on local chain"
   ]
  },
  {
   "cell_type": "code",
   "execution_count": null,
   "metadata": {
    "code_folding": [
     0
    ]
   },
   "outputs": [],
   "source": [
    "# if business has multiple entries calassify as chain with a 1 otherwise 0\n",
    "unique_list = []\n",
    "\n",
    "def check_unique(lst, entry): \n",
    "    for i in lst: \n",
    "        if i == entry: \n",
    "            return 1\n",
    "        \n",
    "    lst.append(entry)\n",
    "    return 0\n",
    "\n",
    "merged_df['is_chain'] = [check_unique(unique_list, x) for x in merged_df.business_name]\n"
   ]
  },
  {
   "cell_type": "markdown",
   "metadata": {},
   "source": [
    "### Predict (X) geting a 5 star rating; where X is a given category\n",
    "(first lets look at the probability of getting a five star vs not getting a five star)"
   ]
  },
  {
   "cell_type": "code",
   "execution_count": null,
   "metadata": {
    "code_folding": [
     0
    ]
   },
   "outputs": [],
   "source": [
    "# find the probability of yes and no\n",
    "N = merged_df['five_star_business'].count()\n",
    "\n",
    "num_yes = merged_df[merged_df['five_star_business']==1].five_star_business.count()\n",
    "num_no = N - num_yes\n",
    "\n",
    "print(\"C_1 = yes (five star rating)\")\n",
    "print(\"C_2 = no  (five star rating)\")\n",
    "print(\"P(C_i|X) = P(X| C_i) P(C_i)\")\n",
    "print(\"P(C_i)\")\n",
    "\n",
    "stars_yes = num_yes / N\n",
    "stars_no = num_no / N\n",
    "print(\"P(five_star = \\\"yes\\\") = {}/{} = {}\".format(num_yes, N, stars_yes)) \n",
    "print(\"P(five_star = \\\"no\\\") = {}/{} = {}\".format(num_no, N, stars_no))\n"
   ]
  },
  {
   "cell_type": "markdown",
   "metadata": {},
   "source": [
    "(now determin probabilities based on a given calss)"
   ]
  },
  {
   "cell_type": "code",
   "execution_count": null,
   "metadata": {
    "code_folding": [
     0
    ]
   },
   "outputs": [],
   "source": [
    "# function for calculating pobabilities\n",
    "def prob_entry(df, yes_total, no_total): \n",
    "    five_star_yes = df[df['five_star_business']==1].five_star_business.count()\n",
    "    five_star_no = df[df['five_star_business']==0].five_star_business.count()\n",
    "    prob = (five_star_yes / yes_total, five_star_no / no_total)\n",
    "    return prob\n",
    "\n",
    "def calc_probabilities(column_for_prob, num_yes, num_no): \n",
    "    prob_five_star = []\n",
    "    # group and find the probabilities based on group\n",
    "    for name, group in merged_df.groupby(column_for_prob): \n",
    "        prob_five_star.append((name, prob_entry(group, num_yes, num_no)))\n",
    "        \n",
    "    # split array into lists based on attibute\n",
    "    list_of_column_for_prob = []\n",
    "    list_of_prob_yes = []\n",
    "    list_of_porb_no = []\n",
    "\n",
    "    for name, (yes, no) in prob_five_star: \n",
    "        list_of_column_for_prob.append(name)\n",
    "        list_of_prob_yes.append(yes)\n",
    "        list_of_porb_no.append(no)\n",
    "        \n",
    "    # combine lists and add to dataframe    \n",
    "    zippedList =  list(zip(list_of_column_for_prob, list_of_prob_yes, list_of_porb_no))\n",
    "    \n",
    "    return pd.DataFrame(zippedList, columns = [column_for_prob, 'yes_prob', 'no_prob'])\n"
   ]
  },
  {
   "cell_type": "markdown",
   "metadata": {},
   "source": [
    "##### P(Category| C_i)"
   ]
  },
  {
   "cell_type": "code",
   "execution_count": null,
   "metadata": {},
   "outputs": [],
   "source": [
    "print(\"Top 10: P(category|five_star = \\\"yes\\\") and  P(category|five_star = \\\"no\\\")\")\n",
    "prob_categories_df = calc_probabilities('business_categories', num_yes, num_no)\n",
    "prob_categories_df.sort_values(by=\"yes_prob\", ascending=False)[:10]\n"
   ]
  },
  {
   "cell_type": "markdown",
   "metadata": {},
   "source": [
    "#### Prediction"
   ]
  },
  {
   "cell_type": "code",
   "execution_count": null,
   "metadata": {},
   "outputs": [],
   "source": []
  },
  {
   "cell_type": "code",
   "execution_count": null,
   "metadata": {},
   "outputs": [],
   "source": [
    "x_bar = merged_df.business_stars.mean()\n",
    "std_dev = merged_df.business_stars.std()"
   ]
  },
  {
   "cell_type": "code",
   "execution_count": null,
   "metadata": {},
   "outputs": [],
   "source": [
    "test = merged_df.groupby('business_categories')\n",
    "test"
   ]
  },
  {
   "cell_type": "code",
   "execution_count": null,
   "metadata": {},
   "outputs": [],
   "source": [
    "again = pd.DataFrame(new)\n",
    "again"
   ]
  },
  {
   "cell_type": "code",
   "execution_count": null,
   "metadata": {},
   "outputs": [],
   "source": [
    "def show_hist(df): \n",
    "    b_stars_list = []\n",
    "\n",
    "    for i, row in enumerate(df.itertuples()): \n",
    "        b_stars_list.append((i, row.business_stars))\n",
    "    \n",
    "    print(b_stars_list[:5])\n",
    "show_hist(merged_df)    "
   ]
  },
  {
   "cell_type": "code",
   "execution_count": null,
   "metadata": {},
   "outputs": [],
   "source": [
    "_ = plt.hist(merged_df[['review_stars', 'business_stars']])\n",
    "plt.show"
   ]
  },
  {
   "cell_type": "markdown",
   "metadata": {},
   "source": [
    "### Visualize clustered NV informaiton"
   ]
  },
  {
   "cell_type": "markdown",
   "metadata": {},
   "source": [
    "once the we have a resonable amount of business lets visualize"
   ]
  },
  {
   "cell_type": "code",
   "execution_count": null,
   "metadata": {
    "code_folding": [
     0
    ]
   },
   "outputs": [],
   "source": [
    "# find unique businesses\n",
    "def make_unique(df, col1): \n",
    "    unique = []\n",
    "    booliens = []\n",
    "\n",
    "    for x in df[col1]:\n",
    "        if x not in unique:\n",
    "            booliens.append(True)\n",
    "            unique.append(x)\n",
    "        else:\n",
    "            booliens.append(False)\n",
    "\n",
    "    return booliens\n",
    "\n",
    "booliens = []\n",
    "\n",
    "arg1 = 'business_business_id'\n",
    "booliens = make_unique(merged_df, arg1)\n",
    "\n",
    "unique_values = pd.Series(booliens)\n",
    "\n",
    "# use as filter for unique values\n",
    "unique_review_df = merged_df[unique_values]\n",
    "\n",
    "# look at the number of business in the area\n",
    "unique_review_df.business_business_id.count()\n",
    "\n",
    "# look at all the businesses with average star rating over 4\n",
    "unique_review_df[(unique_review_df['business_stars'] > 4) & (unique_review_df['business_is_open'] == '1')].business_stars.count() \n",
    "\n",
    "test_df = unique_review_df[(unique_review_df['business_stars'] > 4) & (unique_review_df['business_is_open'] == '1')].copy()\n",
    "\n"
   ]
  },
  {
   "cell_type": "code",
   "execution_count": null,
   "metadata": {
    "code_folding": [
     0
    ]
   },
   "outputs": [],
   "source": [
    "# visualize location points using folium\n",
    "import folium\n",
    " \n",
    "NV = (36.188820, -115.207720)\n",
    " \n",
    "# for speed purposes\n",
    "\n",
    "\n",
    "colors = ['#000000', '#cc0099', '#3186cc']\n",
    "\n",
    "  \n",
    "# create empty map zoomed in on San Francisco\n",
    "m = folium.Map(location=NV, zoom_start=10)\n",
    "\n",
    "\n",
    "# add a marker for every record in the filtered data, use a clustered view\n",
    "for lat, lon in zip(test_df['business_latitude'], test_df['business_longitude']):    \n",
    "    folium.CircleMarker(\n",
    "        [lat, lon],\n",
    "        radius=1,\n",
    "        fill=True,\n",
    "        ).add_to(m) \n",
    "\n",
    "display(m)\n"
   ]
  },
  {
   "cell_type": "markdown",
   "metadata": {},
   "source": [
    "********"
   ]
  },
  {
   "cell_type": "markdown",
   "metadata": {},
   "source": [
    "## Unit Test"
   ]
  },
  {
   "cell_type": "code",
   "execution_count": null,
   "metadata": {},
   "outputs": [],
   "source": [
    "test_in_path = root_path + 'test.json' \n",
    "\n",
    "test_df = JSON_to_dataFrame(test_in_path)"
   ]
  },
  {
   "cell_type": "code",
   "execution_count": null,
   "metadata": {},
   "outputs": [],
   "source": [
    "%%time\n",
    "\n",
    "test_out_path = root_path + 'test_out.json' \n",
    "\n",
    "parse_DataFrame1(test_df, test_out_path)"
   ]
  },
  {
   "cell_type": "code",
   "execution_count": null,
   "metadata": {},
   "outputs": [],
   "source": [
    "test2_df = JSON_to_dataFrame(test_out_path)"
   ]
  },
  {
   "cell_type": "code",
   "execution_count": null,
   "metadata": {},
   "outputs": [],
   "source": [
    "def test_DataFrame_to_Json(a_df_1, a_df_2): \n",
    "    \n",
    "    df_list_1 = []\n",
    "    df_list_2 = []\n",
    "    catch_list = []\n",
    "    \n",
    "    for row in a_df_1.itertuples():\n",
    "            \n",
    "            for idx, col in enumerate(a_df_1):\n",
    "                df_list_1.append((type(row[idx]), col))\n",
    "                \n",
    "    for row_2 in a_df_2.itertuples():\n",
    "            \n",
    "            for idx_2, col_2 in enumerate(a_df_2):\n",
    "                df_list_2.append((type(row[idx_2]), col_2))\n",
    "                \n",
    "    for x,y in zip(df_list_1, df_list_2): \n",
    "        if x != y: \n",
    "            catch_list.append((x, y))\n",
    "            \n",
    "    for i in catch_list: \n",
    "        print(i)             # dataFrams have different types"
   ]
  },
  {
   "cell_type": "code",
   "execution_count": null,
   "metadata": {},
   "outputs": [],
   "source": [
    "def JSON_to_dataFrame_2(file): \n",
    "    \n",
    "    fp = open(file, encoding=\"utf8\")\n",
    "    json_obj = [ json.loads(x) for x in fp.readlines() [-500000:]] \n",
    "    df = pd.DataFrame(json_obj)\n",
    "    fp.close\n",
    "    return df"
   ]
  },
  {
   "cell_type": "code",
   "execution_count": null,
   "metadata": {},
   "outputs": [],
   "source": [
    "df1 = JSON_to_dataFrame_2(rbu_path)"
   ]
  },
  {
   "cell_type": "code",
   "execution_count": null,
   "metadata": {},
   "outputs": [],
   "source": [
    "# smaller scale test on business set\n",
    "test_DataFrame_to_Json(rbu_merge, rbu_complete_df)"
   ]
  },
  {
   "cell_type": "code",
   "execution_count": null,
   "metadata": {},
   "outputs": [],
   "source": [
    "# test on full merged data set\n",
    "test_DataFrame_to_Json(rbu_merge, rbu_complete_df)"
   ]
  },
  {
   "cell_type": "markdown",
   "metadata": {},
   "source": [
    "## Functions to check file given error message"
   ]
  },
  {
   "cell_type": "code",
   "execution_count": null,
   "metadata": {},
   "outputs": [],
   "source": [
    "check_input_output(test_in_path, test_out_path, log_path)"
   ]
  },
  {
   "cell_type": "code",
   "execution_count": null,
   "metadata": {},
   "outputs": [],
   "source": [
    "def check_input_output(a_test_in_path, a_test_out_path, a_log_path):\n",
    "    line_count = 0\n",
    "    char_count = 0\n",
    "    save1 = \"\"\n",
    "    save2 = []\n",
    "    cnt1 = 0\n",
    "    cnt2 = 0\n",
    "    \n",
    "    with open(a_test_in_path, 'r') as read1, open(a_test_out_path, 'r') as read2: \n",
    "        for x, y in zip(read1, read2):\n",
    "            x = x.strip()\n",
    "            y = y.strip()\n",
    "            \n",
    "            in_line = x.split()\n",
    "            out_line = y.split()\n",
    "            for word1, word2 in zip(in_line, out_line):\n",
    "                \n",
    "                save2.append(word1)\n",
    "                \n",
    "                if cnt1 > 5:\n",
    "                    save2.pop(0)\n",
    "                cnt1 = cnt1 + 1\n",
    "\n",
    "            \n",
    "                word_list = list(word2)\n",
    "                \n",
    "                for char in word_list: \n",
    "                    save1 = save1 + char\n",
    "                    if cnt2 > 70: \n",
    "                        save1 = save1[1:]\n",
    "                    \n",
    "                    if char_count == 139: \n",
    "                        print(save1)\n",
    "                        print(\" \".join(save2))\n",
    "                        \n",
    "                    char_count = char_count + 1\n",
    "                    cnt2 += 1\n",
    "                \n",
    "            line_count = line_count + 1\n",
    "\n",
    "\n",
    "            "
   ]
  },
  {
   "cell_type": "code",
   "execution_count": null,
   "metadata": {},
   "outputs": [],
   "source": [
    "with open(test_out_path, 'r') as reader: \n",
    "    for i in reader: \n",
    "        print(i)"
   ]
  },
  {
   "cell_type": "markdown",
   "metadata": {},
   "source": [
    "****\n",
    "## GCP Import\n",
    "* login cradentaials provided to work with yelp_db database"
   ]
  },
  {
   "cell_type": "code",
   "execution_count": null,
   "metadata": {},
   "outputs": [],
   "source": [
    "import sys\n",
    "!{sys.executable} -m pip install PyMySQL"
   ]
  },
  {
   "cell_type": "markdown",
   "metadata": {},
   "source": [
    "### MySql Server is nessisary to connect to GCP\n",
    "* https://dev.mysql.com/downloads/mysql/"
   ]
  },
  {
   "cell_type": "code",
   "execution_count": null,
   "metadata": {},
   "outputs": [],
   "source": [
    "import pymysql, os, sys, json\n",
    "from IPython.display import clear_output\n",
    "import multiprocessing as mp"
   ]
  },
  {
   "cell_type": "code",
   "execution_count": null,
   "metadata": {},
   "outputs": [],
   "source": [
    "# read json file\n",
    "file = \"Group1/review.json\"\n",
    "\n",
    "json_data = open(file, encoding=\"utf8\")\n",
    "json_obj = [json.loads(x) for x in json_data.readlines()]\n"
   ]
  },
  {
   "cell_type": "code",
   "execution_count": null,
   "metadata": {},
   "outputs": [],
   "source": [
    "num = len(json_obj)\n",
    "print(num)"
   ]
  },
  {
   "cell_type": "code",
   "execution_count": null,
   "metadata": {},
   "outputs": [],
   "source": [
    "# validate data before inserting\n",
    "# TODO: check if string is the right type \n",
    "# TODO: check for duplicate data\n",
    "# TODO: check for bad formats (date)\n",
    "\n",
    "def validate_string(val): \n",
    "    if val != None: \n",
    "            if type(val) is int: \n",
    "                return str(val).encode('utf-8')\n",
    "            else: \n",
    "                return val\n",
    "            "
   ]
  },
  {
   "cell_type": "markdown",
   "metadata": {},
   "source": [
    "### Processing takes to long so I used multiprocessing to speed up importing to host\n",
    "* executing insert into gcp is atomic\n",
    "\n",
    "this will take over 4 days to import one table!"
   ]
  },
  {
   "cell_type": "code",
   "execution_count": null,
   "metadata": {},
   "outputs": [],
   "source": [
    "def insert_review(cursor, item, lock): \n",
    "          \n",
    "    review_id = validate_string(item['review_id'])\n",
    "    business_id = validate_string(item['business_id'])\n",
    "    cool = validate_string(item['cool'])\n",
    "    date = validate_string(item['date'])\n",
    "    funny = validate_string(item['funny'])\n",
    "    stars = validate_string(item['stars'])\n",
    "    text = validate_string(item['text'])\n",
    "    useful = validate_string(item['useful'])\n",
    "    user_id = validate_string(item['user_id'])\n",
    "    \n",
    "    query = \"INSERT INTO review(review_id,business_id,cool,date,funny,stars,text,useful,user_id) VALUES(%s,%s,%s,%s,%s,%s,%s,%s,%s)\"\n",
    "    args = (review_id, business_id, cool, date, funny, stars, text, useful, user_id)\n",
    "    lock.acquire()\n",
    "    cursor.execute(query, args)\n",
    "    lock.release()\n",
    "    \n",
    "    clear_output()\n",
    "    cnt.value = cnt.value + 1\n",
    "    print(cnt.value)\n",
    "    \n",
    "    "
   ]
  },
  {
   "cell_type": "code",
   "execution_count": null,
   "metadata": {},
   "outputs": [],
   "source": [
    "# connect to GCP MySql db insert data into review table\n",
    "con = pymysql.connect(host = '104.198.65.208', user='root', password = 'hackme', db = 'yelp_db')\n",
    "\n",
    "cnt = mp.Value('i', 0)\n",
    "lock = mp.Lock()\n",
    "pool = mp.Pool()\n",
    "\n",
    "\n",
    "try: \n",
    "    with con.cursor() as cursor:\n",
    "        \n",
    "        # parse json data to SQL\n",
    "        # use map to update each row in GCP\n",
    "        result = pool.map([ insert_review(cursor, item, lock) for item in json_obj ])\n",
    "            \n",
    "finally:\n",
    "    con.commit()\n",
    "    con.close()\n",
    "    "
   ]
  }
 ],
 "metadata": {
  "kernelspec": {
   "display_name": "Python 3",
   "language": "python",
   "name": "python3"
  },
  "language_info": {
   "codemirror_mode": {
    "name": "ipython",
    "version": 3
   },
   "file_extension": ".py",
   "mimetype": "text/x-python",
   "name": "python",
   "nbconvert_exporter": "python",
   "pygments_lexer": "ipython3",
   "version": "3.7.4"
  }
 },
 "nbformat": 4,
 "nbformat_minor": 2
}
